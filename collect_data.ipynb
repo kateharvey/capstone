{
 "cells": [
  {
   "cell_type": "code",
   "execution_count": 1,
   "metadata": {},
   "outputs": [],
   "source": [
    "# script to collect serial data from arduino\n",
    "# IMPORTANT: ensure Arduino serial monitor is closed before running this script\n",
    "import csv\n",
    "import os\n",
    "import serial # pip install pyserial\n",
    "import numpy as np\n",
    "import matplotlib.pyplot as plt"
   ]
  },
  {
   "cell_type": "code",
   "execution_count": 9,
   "metadata": {},
   "outputs": [
    {
     "name": "stdout",
     "output_type": "stream",
     "text": [
      "Connected COM ports: ['/dev/cu.GalaxyBuds4816', '/dev/cu.Bluetooth-Incoming-Port', '/dev/cu.usbmodem14201']\n"
     ]
    }
   ],
   "source": [
    "# list avaialble ports\n",
    "import serial.tools.list_ports\n",
    "comlist = serial.tools.list_ports.comports()\n",
    "connected = []\n",
    "for element in comlist:\n",
    "    connected.append(element.device)\n",
    "print(\"Connected COM ports: \" + str(connected))"
   ]
  },
  {
   "cell_type": "code",
   "execution_count": 47,
   "metadata": {},
   "outputs": [
    {
     "ename": "SerialException",
     "evalue": "[Errno 16] could not open port /dev/cu.usbmodem14201: [Errno 16] Resource busy: '/dev/cu.usbmodem14201'",
     "output_type": "error",
     "traceback": [
      "\u001b[0;31m---------------------------------------------------------------------------\u001b[0m",
      "\u001b[0;31mOSError\u001b[0m                                   Traceback (most recent call last)",
      "File \u001b[0;32m~/anaconda3/envs/syde556/lib/python3.11/site-packages/serial/serialposix.py:322\u001b[0m, in \u001b[0;36mSerial.open\u001b[0;34m(self)\u001b[0m\n\u001b[1;32m    321\u001b[0m \u001b[38;5;28;01mtry\u001b[39;00m:\n\u001b[0;32m--> 322\u001b[0m     \u001b[38;5;28mself\u001b[39m\u001b[38;5;241m.\u001b[39mfd \u001b[38;5;241m=\u001b[39m os\u001b[38;5;241m.\u001b[39mopen(\u001b[38;5;28mself\u001b[39m\u001b[38;5;241m.\u001b[39mportstr, os\u001b[38;5;241m.\u001b[39mO_RDWR \u001b[38;5;241m|\u001b[39m os\u001b[38;5;241m.\u001b[39mO_NOCTTY \u001b[38;5;241m|\u001b[39m os\u001b[38;5;241m.\u001b[39mO_NONBLOCK)\n\u001b[1;32m    323\u001b[0m \u001b[38;5;28;01mexcept\u001b[39;00m \u001b[38;5;167;01mOSError\u001b[39;00m \u001b[38;5;28;01mas\u001b[39;00m msg:\n",
      "\u001b[0;31mOSError\u001b[0m: [Errno 16] Resource busy: '/dev/cu.usbmodem14201'",
      "\nDuring handling of the above exception, another exception occurred:\n",
      "\u001b[0;31mSerialException\u001b[0m                           Traceback (most recent call last)",
      "Cell \u001b[0;32mIn[47], line 3\u001b[0m\n\u001b[1;32m      1\u001b[0m \u001b[38;5;66;03m# set up comport:\u001b[39;00m\n\u001b[1;32m      2\u001b[0m COMPORT \u001b[38;5;241m=\u001b[39m \u001b[38;5;124m'\u001b[39m\u001b[38;5;124m/dev/cu.usbmodem14201\u001b[39m\u001b[38;5;124m'\u001b[39m \u001b[38;5;66;03m# adjust this\u001b[39;00m\n\u001b[0;32m----> 3\u001b[0m arduino \u001b[38;5;241m=\u001b[39m \u001b[43mserial\u001b[49m\u001b[38;5;241;43m.\u001b[39;49m\u001b[43mSerial\u001b[49m\u001b[43m(\u001b[49m\u001b[43mCOMPORT\u001b[49m\u001b[43m,\u001b[49m\u001b[43m \u001b[49m\u001b[38;5;241;43m115200\u001b[39;49m\u001b[43m,\u001b[49m\u001b[43m \u001b[49m\u001b[43mbytesize\u001b[49m\u001b[38;5;241;43m=\u001b[39;49m\u001b[38;5;241;43m8\u001b[39;49m\u001b[43m)\u001b[49m\n\u001b[1;32m      4\u001b[0m \u001b[38;5;28mprint\u001b[39m(\u001b[38;5;124mf\u001b[39m\u001b[38;5;124m\"\u001b[39m\u001b[38;5;124mConnected to port \u001b[39m\u001b[38;5;132;01m{\u001b[39;00marduino\u001b[38;5;241m.\u001b[39mname\u001b[38;5;132;01m}\u001b[39;00m\u001b[38;5;124m.\u001b[39m\u001b[38;5;124m\"\u001b[39m)\n\u001b[1;32m      6\u001b[0m \u001b[38;5;66;03m# get name of file to save data to:\u001b[39;00m\n",
      "File \u001b[0;32m~/anaconda3/envs/syde556/lib/python3.11/site-packages/serial/serialutil.py:244\u001b[0m, in \u001b[0;36mSerialBase.__init__\u001b[0;34m(self, port, baudrate, bytesize, parity, stopbits, timeout, xonxoff, rtscts, write_timeout, dsrdtr, inter_byte_timeout, exclusive, **kwargs)\u001b[0m\n\u001b[1;32m    241\u001b[0m     \u001b[38;5;28;01mraise\u001b[39;00m \u001b[38;5;167;01mValueError\u001b[39;00m(\u001b[38;5;124m'\u001b[39m\u001b[38;5;124munexpected keyword arguments: \u001b[39m\u001b[38;5;132;01m{!r}\u001b[39;00m\u001b[38;5;124m'\u001b[39m\u001b[38;5;241m.\u001b[39mformat(kwargs))\n\u001b[1;32m    243\u001b[0m \u001b[38;5;28;01mif\u001b[39;00m port \u001b[38;5;129;01mis\u001b[39;00m \u001b[38;5;129;01mnot\u001b[39;00m \u001b[38;5;28;01mNone\u001b[39;00m:\n\u001b[0;32m--> 244\u001b[0m     \u001b[38;5;28;43mself\u001b[39;49m\u001b[38;5;241;43m.\u001b[39;49m\u001b[43mopen\u001b[49m\u001b[43m(\u001b[49m\u001b[43m)\u001b[49m\n",
      "File \u001b[0;32m~/anaconda3/envs/syde556/lib/python3.11/site-packages/serial/serialposix.py:325\u001b[0m, in \u001b[0;36mSerial.open\u001b[0;34m(self)\u001b[0m\n\u001b[1;32m    323\u001b[0m \u001b[38;5;28;01mexcept\u001b[39;00m \u001b[38;5;167;01mOSError\u001b[39;00m \u001b[38;5;28;01mas\u001b[39;00m msg:\n\u001b[1;32m    324\u001b[0m     \u001b[38;5;28mself\u001b[39m\u001b[38;5;241m.\u001b[39mfd \u001b[38;5;241m=\u001b[39m \u001b[38;5;28;01mNone\u001b[39;00m\n\u001b[0;32m--> 325\u001b[0m     \u001b[38;5;28;01mraise\u001b[39;00m SerialException(msg\u001b[38;5;241m.\u001b[39merrno, \u001b[38;5;124m\"\u001b[39m\u001b[38;5;124mcould not open port \u001b[39m\u001b[38;5;132;01m{}\u001b[39;00m\u001b[38;5;124m: \u001b[39m\u001b[38;5;132;01m{}\u001b[39;00m\u001b[38;5;124m\"\u001b[39m\u001b[38;5;241m.\u001b[39mformat(\u001b[38;5;28mself\u001b[39m\u001b[38;5;241m.\u001b[39m_port, msg))\n\u001b[1;32m    326\u001b[0m \u001b[38;5;66;03m#~ fcntl.fcntl(self.fd, fcntl.F_SETFL, 0)  # set blocking\u001b[39;00m\n\u001b[1;32m    328\u001b[0m \u001b[38;5;28mself\u001b[39m\u001b[38;5;241m.\u001b[39mpipe_abort_read_r, \u001b[38;5;28mself\u001b[39m\u001b[38;5;241m.\u001b[39mpipe_abort_read_w \u001b[38;5;241m=\u001b[39m \u001b[38;5;28;01mNone\u001b[39;00m, \u001b[38;5;28;01mNone\u001b[39;00m\n",
      "\u001b[0;31mSerialException\u001b[0m: [Errno 16] could not open port /dev/cu.usbmodem14201: [Errno 16] Resource busy: '/dev/cu.usbmodem14201'"
     ]
    }
   ],
   "source": [
    "# set up comport:\n",
    "COMPORT = '/dev/cu.usbmodem14201' # adjust this\n",
    "arduino = serial.Serial(COMPORT, 115200, bytesize=8)\n",
    "print(f\"Connected to port {arduino.name}.\")\n",
    "\n",
    "# get name of file to save data to:\n",
    "FILENAME = './test_data'\n",
    "NEWFILE = './test_data'\n",
    "INDEX = 1\n",
    "\n",
    "while os.path.exists(NEWFILE+'.csv'):\n",
    "    print(f\"File {NEWFILE}.csv already exists.\")\n",
    "    NEWFILE = FILENAME + '_' + str(INDEX)\n",
    "    INDEX += 1\n",
    "print(f\"Saving data to {NEWFILE}.csv\")\n",
    "\n",
    "\n",
    "# open corresponding file and record data:\n",
    "with open(NEWFILE+'.csv', 'w', newline='') as csvfile:\n",
    "    datawriter = csv.writer(csvfile, delimiter='\\n')\n",
    "\n",
    "    ############################################################################\n",
    "    # Read in inital values:\n",
    "    # cols = arduino.readline().decode('utf-8').rstrip().split('\\n')\n",
    "    # datawriter.writerow([cols]) # Log column headers\n",
    "\n",
    "    datawriter.writerow(arduino.readline().decode('utf-8').rstrip().split('\\n'))\n",
    "    Freq = float(arduino.readline().decode('utf-8').rstrip())\n",
    "    datawriter.writerow([Freq]) # Log Sample Frequency in Hz\n",
    "\n",
    "    datawriter.writerow(arduino.readline().decode('utf-8').rstrip().split('\\n'))\n",
    "    Time = float(arduino.readline().decode('utf-8').rstrip())\n",
    "    datawriter.writerow([Time]) # Log test duration in seconds\n",
    "\n",
    "    datawriter.writerow(arduino.readline().decode('utf-8').rstrip().split('\\n'))\n",
    "    H_Gain = float(arduino.readline().decode('utf-8').rstrip())\n",
    "    datawriter.writerow([H_Gain]) # Log Feedback gain\n",
    "\n",
    "    datawriter.writerow(arduino.readline().decode('utf-8').rstrip().split('\\n'))\n",
    "    cnt_max = int(arduino.readline().decode('utf-8').rstrip())\n",
    "    datawriter.writerow([cnt_max]) # Log total number of timesteps\n",
    "\n",
    "    datawriter.writerow(arduino.readline().decode('utf-8').rstrip().split('\\n'))\n",
    "    pressure_offset = float(arduino.readline().decode('utf-8').rstrip())\n",
    "    datawriter.writerow([pressure_offset]) # Log pressure offset\n",
    "    ############################################################################\n",
    "\n",
    "    # Initialize Vectors\n",
    "    T = np.linspace(0, Time, cnt_max) # Setup Time Vector\n",
    "    R = np.zeros(cnt_max)             # Initialize Reference Input Vector\n",
    "    Y = np.zeros(cnt_max)             # Initialize Output Vector\n",
    "\n",
    "    print(\"Initialization complete.\")\n",
    "    print(\"Starting data capture...\")\n",
    "\n",
    "    # read in output data line by line:\n",
    "    # time, input, output\n",
    "    for i in range(cnt_max):\n",
    "        R[i] = float(arduino.readline().decode('utf-8').rstrip())\n",
    "        datawriter.writerow([R[i]])\n",
    "        Y[i] = float(arduino.readline().decode('utf-8').rstrip())\n",
    "        datawriter.writerow([Y[i]])\n",
    "\n",
    "print('Data capture complete.')\n",
    "\n",
    "# Plot captured data\n",
    "fig, ax = plt.subplots(figsize=(10, 5))\n",
    "\n",
    "ax.set_title('Open-loop response')\n",
    "ax.plot(T, R, label='reference input')\n",
    "ax.plot(T, Y, label='response')\n",
    "ax.set_ylabel('Pressure (mbar)')\n",
    "ax.set_xlabel('Time (seconds)')\n",
    "plt.savefig(NEWFILE+'_plot.png')\n",
    "plt.legend()\n",
    "plt.show()"
   ]
  }
 ],
 "metadata": {
  "kernelspec": {
   "display_name": "syde556",
   "language": "python",
   "name": "python3"
  },
  "language_info": {
   "codemirror_mode": {
    "name": "ipython",
    "version": 3
   },
   "file_extension": ".py",
   "mimetype": "text/x-python",
   "name": "python",
   "nbconvert_exporter": "python",
   "pygments_lexer": "ipython3",
   "version": "3.11.5"
  }
 },
 "nbformat": 4,
 "nbformat_minor": 2
}
